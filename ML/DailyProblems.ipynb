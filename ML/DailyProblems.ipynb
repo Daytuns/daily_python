{
 "cells": [
  {
   "cell_type": "markdown",
   "id": "8b3b2160-bc47-4c55-bc20-a947de58aaa9",
   "metadata": {},
   "source": [
    "## Problem 1: Basic Data Manipulation"
   ]
  },
  {
   "cell_type": "markdown",
   "id": "563ef82a-73e9-46ba-b6df-a75701c4d5ba",
   "metadata": {},
   "source": [
    "You have a list of numbers, but some of them are duplicates. Write a Python function that removes duplicates while maintaining the order of elements."
   ]
  },
  {
   "cell_type": "markdown",
   "id": "e6f1bd78-ec5c-41a3-8e35-c647309d4f50",
   "metadata": {},
   "source": [
    "#### Example Input"
   ]
  },
  {
   "cell_type": "markdown",
   "id": "5b3f0b23-4f96-43d2-b434-fc4938040eca",
   "metadata": {},
   "source": [
    "nums = [4, 2, 5, 2, 3, 4, 1, 5, 6]"
   ]
  },
  {
   "cell_type": "markdown",
   "id": "06bf3b7c-b120-41b8-ab2b-0205be68a8c1",
   "metadata": {},
   "source": [
    "#### Example Output"
   ]
  },
  {
   "cell_type": "markdown",
   "id": "14178ddd-970e-4edb-991b-01794760878d",
   "metadata": {},
   "source": [
    "[4, 2, 5, 3, 1, 6]\n"
   ]
  },
  {
   "cell_type": "code",
   "execution_count": 1,
   "id": "02cc5c5b-ba1c-4837-8e8a-632001cb50dd",
   "metadata": {},
   "outputs": [],
   "source": [
    "def P1():\n",
    "    loop = 1\n",
    "    check = \"Y\"\n",
    "    list_of_numbers = []\n",
    "    while loop == 1 and check == \"Y\":\n",
    "        list_of_numbers.append(input(\"Please type a number to append to the list\"))\n",
    "        check = input(\"Do you want to add more numbers? (Y)es or (N)o\")\n",
    "        if check == \"Y\":\n",
    "            loop = 1\n",
    "        elif check == \"N\":\n",
    "            loop = 0\n",
    "        else:\n",
    "            check = input(\"Please answer (Y)es or (N)o\")\n",
    "\n",
    "    for x in list_of_numbers:\n",
    "        for y in range(int(x)):\n",
    "            if list_of_numbers[int(x)] == list_of_numbers[int(y)]:\n",
    "                del list_of_numbers[int(x)]\n",
    "\n",
    "    print(list_of_numbers)"
   ]
  },
  {
   "cell_type": "code",
   "execution_count": 2,
   "id": "0496469f-a7b9-4c5f-82cc-c0ab4c68fb91",
   "metadata": {},
   "outputs": [
    {
     "name": "stdin",
     "output_type": "stream",
     "text": [
      "Please type a number to append to the list 4\n",
      "Do you want to add more numbers? (Y)es or (N)o 5\n",
      "Please answer (Y)es or (N)o 7\n"
     ]
    },
    {
     "ename": "IndexError",
     "evalue": "list index out of range",
     "output_type": "error",
     "traceback": [
      "\u001b[1;31m---------------------------------------------------------------------------\u001b[0m",
      "\u001b[1;31mIndexError\u001b[0m                                Traceback (most recent call last)",
      "Cell \u001b[1;32mIn[2], line 1\u001b[0m\n\u001b[1;32m----> 1\u001b[0m \u001b[43mP1\u001b[49m\u001b[43m(\u001b[49m\u001b[43m)\u001b[49m\n",
      "Cell \u001b[1;32mIn[1], line 17\u001b[0m, in \u001b[0;36mP1\u001b[1;34m()\u001b[0m\n\u001b[0;32m     15\u001b[0m \u001b[38;5;28;01mfor\u001b[39;00m x \u001b[38;5;129;01min\u001b[39;00m list_of_numbers:\n\u001b[0;32m     16\u001b[0m     \u001b[38;5;28;01mfor\u001b[39;00m y \u001b[38;5;129;01min\u001b[39;00m \u001b[38;5;28mrange\u001b[39m(\u001b[38;5;28mint\u001b[39m(x)):\n\u001b[1;32m---> 17\u001b[0m         \u001b[38;5;28;01mif\u001b[39;00m \u001b[43mlist_of_numbers\u001b[49m\u001b[43m[\u001b[49m\u001b[38;5;28;43mint\u001b[39;49m\u001b[43m(\u001b[49m\u001b[43mx\u001b[49m\u001b[43m)\u001b[49m\u001b[43m]\u001b[49m \u001b[38;5;241m==\u001b[39m list_of_numbers[\u001b[38;5;28mint\u001b[39m(y)]:\n\u001b[0;32m     18\u001b[0m             \u001b[38;5;28;01mdel\u001b[39;00m list_of_numbers[\u001b[38;5;28mint\u001b[39m(x)]\n\u001b[0;32m     20\u001b[0m \u001b[38;5;28mprint\u001b[39m(list_of_numbers)\n",
      "\u001b[1;31mIndexError\u001b[0m: list index out of range"
     ]
    }
   ],
   "source": [
    "P1()"
   ]
  },
  {
   "cell_type": "code",
   "execution_count": 3,
   "id": "bbfb5b7b-b077-46c7-b7ce-2cb7b15fd299",
   "metadata": {},
   "outputs": [
    {
     "name": "stdin",
     "output_type": "stream",
     "text": [
      "Please type a number to append to the list:  7\n",
      "Do you want to add more numbers? (Y)es or (N)o:  N\n"
     ]
    },
    {
     "name": "stdout",
     "output_type": "stream",
     "text": [
      "Unique numbers: [7]\n"
     ]
    }
   ],
   "source": [
    "def P2():\n",
    "    list_of_numbers = []\n",
    "    \n",
    "    while True:\n",
    "        try:\n",
    "            num = int(input(\"Please type a number to append to the list: \"))\n",
    "            list_of_numbers.append(num)\n",
    "        except ValueError:\n",
    "            print(\"Please enter a valid number.\")\n",
    "\n",
    "        check = input(\"Do you want to add more numbers? (Y)es or (N)o: \").strip().upper()\n",
    "        if check == \"N\":\n",
    "            break\n",
    "        while check not in [\"Y\", \"N\"]:\n",
    "            check = input(\"Please answer (Y)es or (N)o: \").strip().upper()\n",
    "\n",
    "    # Remove duplicates by converting to a set and back to a list\n",
    "    list_of_numbers = list(set(list_of_numbers))\n",
    "\n",
    "    print(\"Unique numbers:\", list_of_numbers)\n",
    "\n",
    "P2()"
   ]
  },
  {
   "cell_type": "markdown",
   "id": "59df11fd-2cc5-4d40-8da4-800aff603c32",
   "metadata": {},
   "source": [
    "## Problem 2: \"Word Frequency Counter\""
   ]
  },
  {
   "cell_type": "markdown",
   "id": "de285f80-ac36-4d1e-bc8b-52436ce1dbf0",
   "metadata": {},
   "source": [
    "Write a Python function that takes a sentence as input and returns a dictionary where the keys are words from the sentence, and the values are the number of times each word appears."
   ]
  },
  {
   "cell_type": "code",
   "execution_count": 4,
   "id": "ebf63274-6dab-4906-859f-6abe7c6b9259",
   "metadata": {},
   "outputs": [
    {
     "data": {
      "text/plain": [
       "{'apple': 3, 'banana': 2, 'orange': 1}"
      ]
     },
     "execution_count": 4,
     "metadata": {},
     "output_type": "execute_result"
    }
   ],
   "source": [
    "def Sentence_to_Dict(input_sentence):\n",
    "    input_sentence = input_sentence.lower()\n",
    "    output_dict = {}\n",
    "    words = input_sentence.split()\n",
    "    for word in words:\n",
    "        if not word[-1].isalnum():\n",
    "            word = word[0:len(word)-1]\n",
    "        if word in output_dict:\n",
    "            output_dict[word] += 1\n",
    "        else:\n",
    "            output_dict.update({word: 1})\n",
    "\n",
    "    return output_dict\n",
    "\n",
    "Sentence_to_Dict(\"apple banana apple orange banana apple\")\n",
    "    \n",
    "    \n",
    "                \n",
    "    \n",
    "    "
   ]
  },
  {
   "cell_type": "code",
   "execution_count": 5,
   "id": "38c1dcd4-5670-44e7-83de-954af5da6527",
   "metadata": {},
   "outputs": [
    {
     "data": {
      "text/plain": [
       "{'hola': 2,\n",
       " 'soy': 1,\n",
       " 'dayton': 1,\n",
       " 'baldizon': 1,\n",
       " 'me': 1,\n",
       " 'gusta': 1,\n",
       " 'la': 2,\n",
       " 'pizza': 1,\n",
       " 'y': 1,\n",
       " 'hamburguesa': 1}"
      ]
     },
     "execution_count": 5,
     "metadata": {},
     "output_type": "execute_result"
    }
   ],
   "source": [
    "Sentence_to_Dict(\"Hola Hola, soy Dayton Baldizon, me gusta la pizza y la hamburguesa\")"
   ]
  },
  {
   "cell_type": "code",
   "execution_count": 6,
   "id": "6f65c655-0d56-4369-a764-0b614f2f2f45",
   "metadata": {},
   "outputs": [
    {
     "data": {
      "text/plain": [
       "{'apple': 3, 'banana': 2, 'orange': 1}"
      ]
     },
     "execution_count": 6,
     "metadata": {},
     "output_type": "execute_result"
    }
   ],
   "source": [
    "Sentence_to_Dict(\"apple, banana apple. orange? banana apple!\")"
   ]
  },
  {
   "cell_type": "markdown",
   "id": "b20b6195-338c-47fe-a4b1-00b9bb256cd9",
   "metadata": {},
   "source": [
    "## Problem 3: Unique Characters Check"
   ]
  },
  {
   "cell_type": "markdown",
   "id": "18ffa45a-8cd6-428a-acc5-501de877a077",
   "metadata": {},
   "source": [
    "Write a function that checks if a given string has all unique characters. The function should return True if all characters in the string are unique and False otherwise."
   ]
  },
  {
   "cell_type": "code",
   "execution_count": 7,
   "id": "fdb81613-3f64-43bb-a217-bfa52e50b511",
   "metadata": {},
   "outputs": [],
   "source": [
    "def Unique(str):\n",
    "    is_unique = True\n",
    "    dict = {}\n",
    "    str = str.lower()\n",
    "    for char in str:\n",
    "        if char in dict:\n",
    "            dict[char] += 1\n",
    "        else:\n",
    "            dict.update({char:1})\n",
    "\n",
    "    for key in dict:\n",
    "        if dict[key] != 1:\n",
    "            is_unique = False\n",
    "            break\n",
    "            \n",
    "    return is_unique"
   ]
  },
  {
   "cell_type": "code",
   "execution_count": 8,
   "id": "5138fa78-02ff-48ff-b076-ccff71b3bcf6",
   "metadata": {},
   "outputs": [
    {
     "data": {
      "text/plain": [
       "False"
      ]
     },
     "execution_count": 8,
     "metadata": {},
     "output_type": "execute_result"
    }
   ],
   "source": [
    "Unique(\"Otorrinonaringologo\")"
   ]
  },
  {
   "cell_type": "code",
   "execution_count": 9,
   "id": "be29c724-4791-4583-823e-58b58a25cd5e",
   "metadata": {},
   "outputs": [
    {
     "data": {
      "text/plain": [
       "True"
      ]
     },
     "execution_count": 9,
     "metadata": {},
     "output_type": "execute_result"
    }
   ],
   "source": [
    "Unique(\"Dayton\")"
   ]
  },
  {
   "cell_type": "markdown",
   "id": "41881541-370c-42fc-951d-0de5b485fe51",
   "metadata": {},
   "source": [
    "#### ChatGPT Solution"
   ]
  },
  {
   "cell_type": "code",
   "execution_count": 10,
   "id": "964cdbb7-2988-482e-92e1-90ee0694f795",
   "metadata": {},
   "outputs": [],
   "source": [
    "def has_unique_chars(s):\n",
    "    seen = set()\n",
    "    s = s.lower()\n",
    "    \n",
    "    for char in s:\n",
    "        if char in seen:\n",
    "            return False\n",
    "        seen.add(char)\n",
    "    \n",
    "    return True"
   ]
  },
  {
   "cell_type": "code",
   "execution_count": 11,
   "id": "a0e58695-e187-43c8-a0d5-ae78110256a0",
   "metadata": {},
   "outputs": [
    {
     "data": {
      "text/plain": [
       "False"
      ]
     },
     "execution_count": 11,
     "metadata": {},
     "output_type": "execute_result"
    }
   ],
   "source": [
    "Unique(\"Otorrinonaringologo\")"
   ]
  },
  {
   "cell_type": "code",
   "execution_count": 12,
   "id": "cc4087b2-0dff-4dbd-859f-08c5e3a4f22b",
   "metadata": {},
   "outputs": [
    {
     "data": {
      "text/plain": [
       "True"
      ]
     },
     "execution_count": 12,
     "metadata": {},
     "output_type": "execute_result"
    }
   ],
   "source": [
    "Unique(\"Dayton\")"
   ]
  },
  {
   "cell_type": "markdown",
   "id": "cb3ab172-e4db-4b78-8dc6-68f23435cc19",
   "metadata": {},
   "source": [
    "## Problem 4: Anagram Checker"
   ]
  },
  {
   "cell_type": "markdown",
   "id": "8ac13f88-81f0-4af3-b140-c6cf1ffbd10d",
   "metadata": {},
   "source": [
    "Write a function are_anagrams(str1, str2) that takes two strings as input and returns True if they are anagrams (contain the same letters in a different order), otherwise returns False.\n",
    "\n",
    "Rules:\n",
    "-   Ignore case (i.e., \"Listen\" and \"Silent\" should be considered anagrams).\n",
    "\n",
    "-   Ignore spaces and punctuation (i.e., \"dormitory\" and \"dirty room!!\" should be considered anagrams).\n",
    "\n",
    "-   Consider only alphanumeric characters (letters and numbers)."
   ]
  },
  {
   "cell_type": "code",
   "execution_count": 13,
   "id": "47c906a7-537d-46c9-97a0-16b105dc03a0",
   "metadata": {},
   "outputs": [],
   "source": [
    "def count(str):\n",
    "    dictionary = {}\n",
    "    str = str.lower()\n",
    "    for char in str:\n",
    "            if char.isalnum():\n",
    "                if char in dictionary:\n",
    "                    dictionary[char] += 1\n",
    "                else:\n",
    "                    dictionary.update({char:1})\n",
    "    return dictionary\n",
    "    \n",
    "\n",
    "def are_anagrams(str1, str2):\n",
    "    if count(str1) == count(str2):\n",
    "        return True\n",
    "    else: \n",
    "        return False\n",
    "    "
   ]
  },
  {
   "cell_type": "code",
   "execution_count": 14,
   "id": "001fa503-6c9d-4dfe-bf75-8e0c64622163",
   "metadata": {},
   "outputs": [
    {
     "data": {
      "text/plain": [
       "{'l': 1, 'i': 1, 's': 1, 't': 1, 'e': 1, 'n': 1}"
      ]
     },
     "execution_count": 14,
     "metadata": {},
     "output_type": "execute_result"
    }
   ],
   "source": [
    "count(\"Listen\")"
   ]
  },
  {
   "cell_type": "code",
   "execution_count": 15,
   "id": "480ea172-220a-4a7b-8ce1-c65870200b37",
   "metadata": {},
   "outputs": [
    {
     "data": {
      "text/plain": [
       "{'s': 1, 'i': 1, 'l': 1, 'e': 1, 'n': 1, 't': 1}"
      ]
     },
     "execution_count": 15,
     "metadata": {},
     "output_type": "execute_result"
    }
   ],
   "source": [
    "count(\"Silent\")"
   ]
  },
  {
   "cell_type": "code",
   "execution_count": 16,
   "id": "b6d69aac-8fc2-4dc5-9e02-501f50eb553e",
   "metadata": {},
   "outputs": [
    {
     "name": "stdout",
     "output_type": "stream",
     "text": [
      "True\n",
      "True\n",
      "True\n",
      "True\n",
      "False\n"
     ]
    }
   ],
   "source": [
    "print(are_anagrams(\"Listen\", \"Silent\"))       # True\n",
    "print(are_anagrams(\"dormitory\", \"dirty room\")) # True\n",
    "print(are_anagrams(\"Hello\", \"Olelh!\"))         # True\n",
    "print(are_anagrams(\"test\", \"tset!\"))          # True\n",
    "print(are_anagrams(\"Python\", \"Java\"))         # False"
   ]
  },
  {
   "cell_type": "markdown",
   "id": "e3d21c7a-faba-4722-9c37-bdb12da10e4b",
   "metadata": {},
   "source": [
    "#### ChatGPT Improvements"
   ]
  },
  {
   "cell_type": "code",
   "execution_count": 17,
   "id": "52a1c9f3-6306-4263-9735-b9ebcff84790",
   "metadata": {},
   "outputs": [],
   "source": [
    "from collections import defaultdict\n",
    "\n",
    "def count(s):\n",
    "    dictionary = defaultdict(int)\n",
    "    s = s.lower()\n",
    "    for char in s:\n",
    "        if char.isalnum():\n",
    "            dictionary[char] += 1\n",
    "    return dictionary\n",
    "\n",
    "def are_anagrams(str1, str2):\n",
    "    return count(str1) == count(str2)"
   ]
  },
  {
   "cell_type": "markdown",
   "id": "dee3f8e1-3944-400a-96ca-998fc7be629d",
   "metadata": {},
   "source": [
    "## Problem 5: First Unique Character in a String"
   ]
  },
  {
   "cell_type": "markdown",
   "id": "e7a18af3-d963-4289-9495-a89e8bf54071",
   "metadata": {},
   "source": [
    "Write a function that takes a string and returns the index of the first non-repeating character. If there is no unique character, return -1."
   ]
  },
  {
   "cell_type": "code",
   "execution_count": 18,
   "id": "f254d23e-56b4-48c3-8bad-cd4d978d4c92",
   "metadata": {},
   "outputs": [],
   "source": [
    "def first_unique_char(str):\n",
    "    str = str.lower()\n",
    "    for index in range(len(str)):\n",
    "        if str.count(str[index]) > 1:\n",
    "            index += 1\n",
    "        else:\n",
    "            return index\n",
    "\n",
    "    return -1"
   ]
  },
  {
   "cell_type": "code",
   "execution_count": 19,
   "id": "a3a5d6b1-1757-4190-8c50-df4994d2422c",
   "metadata": {},
   "outputs": [
    {
     "data": {
      "text/plain": [
       "-1"
      ]
     },
     "execution_count": 19,
     "metadata": {},
     "output_type": "execute_result"
    }
   ],
   "source": [
    " first_unique_char(\"aabb\")  # Output: -1 "
   ]
  },
  {
   "cell_type": "code",
   "execution_count": 20,
   "id": "5f6d7af2-dd2e-4dcb-86f4-13a0e2872221",
   "metadata": {},
   "outputs": [
    {
     "data": {
      "text/plain": [
       "2"
      ]
     },
     "execution_count": 20,
     "metadata": {},
     "output_type": "execute_result"
    }
   ],
   "source": [
    "first_unique_char(\"loveleetcode\")  # Output: 2   "
   ]
  },
  {
   "cell_type": "code",
   "execution_count": 21,
   "id": "949a38d4-1387-4012-8a62-7ac1c57f2930",
   "metadata": {},
   "outputs": [
    {
     "data": {
      "text/plain": [
       "0"
      ]
     },
     "execution_count": 21,
     "metadata": {},
     "output_type": "execute_result"
    }
   ],
   "source": [
    "first_unique_char(\"leetcode\")  # Output: 0"
   ]
  },
  {
   "cell_type": "markdown",
   "id": "7b591abf-3cf5-4dae-bee7-bebbbd1260bd",
   "metadata": {},
   "source": [
    "#### Better solution"
   ]
  },
  {
   "cell_type": "code",
   "execution_count": 22,
   "id": "aa3cb7b3-6fa1-4c2d-97a5-705de1f0ad57",
   "metadata": {},
   "outputs": [],
   "source": [
    "def first_unique_char(str):\n",
    "    dictionary = {}\n",
    "    str = str.lower()\n",
    "    for index in range(len(str)):\n",
    "        if str[index] in dictionary:\n",
    "            dictionary[str[index]] += 1\n",
    "        else:\n",
    "            dictionary.update({str[index] : 1})\n",
    "\n",
    "    for char in dictionary:\n",
    "        if dictionary[char] == 1:\n",
    "            return str.index(char)\n",
    "    print(dictionary)\n",
    "    return -1"
   ]
  },
  {
   "cell_type": "code",
   "execution_count": 23,
   "id": "486c8f0c-8454-496f-b90c-55ad5bcb708c",
   "metadata": {},
   "outputs": [
    {
     "name": "stdout",
     "output_type": "stream",
     "text": [
      "{'a': 2, 'b': 2}\n"
     ]
    },
    {
     "data": {
      "text/plain": [
       "-1"
      ]
     },
     "execution_count": 23,
     "metadata": {},
     "output_type": "execute_result"
    }
   ],
   "source": [
    " first_unique_char(\"aabb\")  # Output: -1 "
   ]
  },
  {
   "cell_type": "code",
   "execution_count": 24,
   "id": "4b645048-77d9-4c93-999e-2045db070c3f",
   "metadata": {},
   "outputs": [
    {
     "data": {
      "text/plain": [
       "2"
      ]
     },
     "execution_count": 24,
     "metadata": {},
     "output_type": "execute_result"
    }
   ],
   "source": [
    "first_unique_char(\"loveleetcode\")  # Output: 2"
   ]
  },
  {
   "cell_type": "code",
   "execution_count": 25,
   "id": "7d94bfa2-224b-4ce3-b270-b00c917df4a9",
   "metadata": {},
   "outputs": [
    {
     "data": {
      "text/plain": [
       "0"
      ]
     },
     "execution_count": 25,
     "metadata": {},
     "output_type": "execute_result"
    }
   ],
   "source": [
    "first_unique_char(\"leetcode\")  # Output: 0"
   ]
  },
  {
   "cell_type": "markdown",
   "id": "391fc0ea-0805-4ae4-8518-821756d2f4a0",
   "metadata": {},
   "source": [
    "#### ChatGPT Improvements"
   ]
  },
  {
   "cell_type": "code",
   "execution_count": 26,
   "id": "c52bf613-198c-454e-bde4-919c97d5037c",
   "metadata": {},
   "outputs": [],
   "source": [
    "def first_unique_char(s):\n",
    "    dictionary = {}\n",
    "    \n",
    "    # First pass: Count occurrences\n",
    "    for char in s:\n",
    "        dictionary[char] = dictionary.get(char, 0) + 1\n",
    "\n",
    "    # Second pass: Find first unique character\n",
    "    for index, char in enumerate(s):\n",
    "        if dictionary[char] == 1:\n",
    "            return index\n",
    "            \n",
    "    return -1\n"
   ]
  },
  {
   "cell_type": "markdown",
   "id": "4a5b815b-2d51-4b9f-a265-9c4b9c9f1390",
   "metadata": {},
   "source": [
    "#### Why is this better?\n",
    "✅ Uses .get(char, 0) for cleaner counting\n",
    "\n",
    "✅ Uses enumerate() to handle indexes more clearly\n",
    "\n",
    "✅ Still O(n) time complexity"
   ]
  },
  {
   "cell_type": "markdown",
   "id": "ee9c73a8-5bbe-493d-8bc3-994b83fa2ef5",
   "metadata": {},
   "source": [
    "## Problem 6: Find the Longest Palindromic Substring"
   ]
  },
  {
   "cell_type": "markdown",
   "id": "df54fda9-6f44-4cfd-957b-b904d7d18901",
   "metadata": {},
   "source": [
    "A palindrome is a word, phrase, or sequence that reads the same forward and backward.\n",
    "Your task is to find the longest palindromic substring within a given string."
   ]
  },
  {
   "cell_type": "markdown",
   "id": "da0060ed-4b08-4cc8-96e3-99d0b7a97992",
   "metadata": {},
   "source": [
    "#### Example Inputs & Outputs:"
   ]
  },
  {
   "cell_type": "markdown",
   "id": "a3f00ed7-439a-4737-9e8e-ea4f856315ff",
   "metadata": {},
   "source": [
    "longest_palindrome(\"babad\")  # Output: \"bab\" (or \"aba\", both are valid)\n",
    "longest_palindrome(\"cbbd\")   # Output: \"bb\"\n",
    "longest_palindrome(\"a\")      # Output: \"a\"\n",
    "longest_palindrome(\"ac\")     # Output: \"a\" or \"c\"\n",
    "\n",
    "Constraints:\n",
    "-  The input string will only contain lowercase English letters.\n",
    "-  If there are multiple longest palindromes, return any one of them."
   ]
  },
  {
   "cell_type": "code",
   "execution_count": 27,
   "id": "94fee87b-77da-452e-9c9b-45ea632bd89e",
   "metadata": {},
   "outputs": [],
   "source": [
    "def reversed_str(str):\n",
    "    reversed_string=\"\"\n",
    "    for index in range(len(str)):\n",
    "    \treversed_string += str[len(str)-1-index]\n",
    "        \n",
    "    return reversed_string\n",
    "\n",
    "def longest_palindrome(str):\n",
    "    list = []\n",
    "    reversed_string = \"\"\n",
    "    for num_letters in range(len(str)):\n",
    "        for index in range(len(str)):\n",
    "            reversed_string = reversed_str(str)\n",
    "            if str[index:num_letters] == reversed_string[index:num_letters]:\n",
    "                if(str[index:num_letters] != \"\"):\n",
    "                    list.append(str[index:num_letters])\n",
    "    if not list:\n",
    "        return str[0]\n",
    "    else: return max(list, key=len)\n",
    "                \n"
   ]
  },
  {
   "cell_type": "code",
   "execution_count": 28,
   "id": "3c2a83df-c419-4fc5-887a-1f47d9800cad",
   "metadata": {},
   "outputs": [
    {
     "data": {
      "text/plain": [
       "'aba'"
      ]
     },
     "execution_count": 28,
     "metadata": {},
     "output_type": "execute_result"
    }
   ],
   "source": [
    "longest_palindrome(\"babad\") # Output: \"bab\""
   ]
  },
  {
   "cell_type": "code",
   "execution_count": 29,
   "id": "a229f1a2-5124-420e-8ae6-f7593582664f",
   "metadata": {},
   "outputs": [
    {
     "data": {
      "text/plain": [
       "'bb'"
      ]
     },
     "execution_count": 29,
     "metadata": {},
     "output_type": "execute_result"
    }
   ],
   "source": [
    "longest_palindrome(\"cbbd\")   # Output: \"bb\""
   ]
  },
  {
   "cell_type": "code",
   "execution_count": 30,
   "id": "0c92f9c7-4045-45d5-959c-5b5149d83c59",
   "metadata": {},
   "outputs": [
    {
     "data": {
      "text/plain": [
       "'a'"
      ]
     },
     "execution_count": 30,
     "metadata": {},
     "output_type": "execute_result"
    }
   ],
   "source": [
    "longest_palindrome(\"a\")      # Output: \"a\""
   ]
  },
  {
   "cell_type": "code",
   "execution_count": 31,
   "id": "1a4d82df-f0d1-4344-bf82-7df75c4579ba",
   "metadata": {},
   "outputs": [
    {
     "data": {
      "text/plain": [
       "'a'"
      ]
     },
     "execution_count": 31,
     "metadata": {},
     "output_type": "execute_result"
    }
   ],
   "source": [
    "longest_palindrome(\"ac\")     # Output: \"a\" or \"c\""
   ]
  },
  {
   "cell_type": "markdown",
   "id": "fa690ca2-a1bd-463c-a69c-72f49ea3abaf",
   "metadata": {},
   "source": [
    "#### ChatGPT Solution"
   ]
  },
  {
   "cell_type": "code",
   "execution_count": 32,
   "id": "afd5cdda-443e-4902-9102-f54c6db551d9",
   "metadata": {},
   "outputs": [],
   "source": [
    "def longest_palindrome(s):\n",
    "    longest = \"\"\n",
    "    \n",
    "    for i in range(len(s)):\n",
    "        for j in range(i, len(s)):\n",
    "            substring = s[i:j+1]\n",
    "            if substring == substring[::-1]:  # Check if it's a palindrome\n",
    "                if len(substring) > len(longest):  # Update longest if needed\n",
    "                    longest = substring\n",
    "                    \n",
    "    return longest"
   ]
  },
  {
   "cell_type": "code",
   "execution_count": 33,
   "id": "1ebf089f-ae67-4427-848f-633ea8bf4f5b",
   "metadata": {},
   "outputs": [
    {
     "name": "stdout",
     "output_type": "stream",
     "text": [
      "bab\n",
      "bb\n",
      "racecar\n",
      "a\n",
      "anana\n"
     ]
    }
   ],
   "source": [
    "print(longest_palindrome(\"babad\"))  # Output: \"bab\" or \"aba\"\n",
    "print(longest_palindrome(\"cbbd\"))   # Output: \"bb\"\n",
    "print(longest_palindrome(\"racecar\")) # Output: \"racecar\"\n",
    "print(longest_palindrome(\"abcdefg\")) # Output: \"a\" (or any other single letter)\n",
    "print(longest_palindrome(\"banana\"))  # Output: \"anana\""
   ]
  },
  {
   "cell_type": "markdown",
   "id": "cb6746b8-6f75-48b6-b918-ae8950f3cd5d",
   "metadata": {},
   "source": [
    "## Problem 7: Group Anagrams"
   ]
  },
  {
   "cell_type": "markdown",
   "id": "13e02e3c-7baa-4226-abb2-3ebcbbfd4660",
   "metadata": {},
   "source": [
    "Write a function that takes a list of strings and groups the anagrams together."
   ]
  },
  {
   "cell_type": "markdown",
   "id": "d4f982af-4b7e-4f25-9c35-365b6c9a3138",
   "metadata": {},
   "source": [
    "#### Example Input:"
   ]
  },
  {
   "cell_type": "raw",
   "id": "9bef1093-1901-444f-904d-28b0e09d3710",
   "metadata": {},
   "source": [
    "group_anagrams([\"eat\", \"tea\", \"tan\", \"ate\", \"nat\", \"bat\"])"
   ]
  },
  {
   "cell_type": "markdown",
   "id": "498df1ce-5913-476d-b9a2-00c320aebc54",
   "metadata": {},
   "source": [
    "#### Expected Output:"
   ]
  },
  {
   "cell_type": "raw",
   "id": "94097202-5766-4304-a438-3116e867f82c",
   "metadata": {},
   "source": [
    "[[\"eat\", \"tea\", \"ate\"], [\"tan\", \"nat\"], [\"bat\"]]"
   ]
  },
  {
   "cell_type": "markdown",
   "id": "09ed955e-6cc9-4b91-bce3-d94a66139ffa",
   "metadata": {},
   "source": [
    "Constraints:\n",
    "-   You can assume all input strings are lowercase.\n",
    "\n",
    "-   The order of the groups doesn't matter."
   ]
  },
  {
   "cell_type": "code",
   "execution_count": 34,
   "id": "a1b6da3d-29da-4092-aa97-72cac9aff80c",
   "metadata": {},
   "outputs": [],
   "source": [
    "def group_anagrams(str_list):\n",
    "    groups = [] # The expected output list of groups of anagrams\n",
    "    group = []  # The groups of anagrams\n",
    "    \n",
    "    for index, word in enumerate(str_list): # Check each word one at a time\n",
    "        if (word != \"\"):\n",
    "            # Check for words only  \n",
    "            characters = sorted(word) # Get the word's letters and standarize the order\n",
    "            for new_index in range(index, len(str_list)): # Check every word going next in the list and compare it to the current word\n",
    "                if characters == sorted(str_list[new_index]):\n",
    "                    group.append(str_list[new_index])     # group enagrams together\n",
    "                    str_list[new_index] = \"\" # \"Delete\" the string in that position so that it is not added again later\n",
    "                    \n",
    "            groups.append(group)\n",
    "            group = []\n",
    "\n",
    "    return groups"
   ]
  },
  {
   "cell_type": "code",
   "execution_count": 35,
   "id": "dc5fe975-bee3-4786-8c5e-91b8a242a280",
   "metadata": {},
   "outputs": [
    {
     "data": {
      "text/plain": [
       "[['eat', 'tea', 'ate'], ['tan', 'nat'], ['bat']]"
      ]
     },
     "execution_count": 35,
     "metadata": {},
     "output_type": "execute_result"
    }
   ],
   "source": [
    "group_anagrams([\"eat\", \"tea\", \"tan\", \"ate\", \"nat\", \"bat\"])"
   ]
  },
  {
   "cell_type": "markdown",
   "id": "30b9f66f-72ad-4214-9d77-e50253349f1d",
   "metadata": {},
   "source": [
    "## ChatGPT Solution"
   ]
  },
  {
   "cell_type": "code",
   "execution_count": 36,
   "id": "d2040b7f-e0bd-406d-bef4-50dec4664c0c",
   "metadata": {},
   "outputs": [],
   "source": [
    "from collections import defaultdict\n",
    "\n",
    "def group_anagrams(str_list):\n",
    "    anagrams = defaultdict(list)\n",
    "    \n",
    "    for word in str_list:\n",
    "        sorted_word = \"\".join(sorted(word))  # Sort the word to get its key\n",
    "        anagrams[sorted_word].append(word)   # Group by sorted key\n",
    "    \n",
    "    return list(anagrams.values())\n"
   ]
  },
  {
   "cell_type": "code",
   "execution_count": 37,
   "id": "3e27645f-3969-4e04-bbf1-5b4deb0dc161",
   "metadata": {},
   "outputs": [
    {
     "data": {
      "text/plain": [
       "[['eat', 'tea', 'ate'], ['tan', 'nat'], ['bat']]"
      ]
     },
     "execution_count": 37,
     "metadata": {},
     "output_type": "execute_result"
    }
   ],
   "source": [
    "group_anagrams([\"eat\", \"tea\", \"tan\", \"ate\", \"nat\", \"bat\"])"
   ]
  },
  {
   "cell_type": "markdown",
   "id": "d34c81f5-f3c9-49c1-ab7a-16e6592ab94a",
   "metadata": {},
   "source": [
    "## Problem 8: Linkedin Found"
   ]
  },
  {
   "cell_type": "code",
   "execution_count": 38,
   "id": "485fc6fa-835b-4891-9a4c-36bede4489e7",
   "metadata": {},
   "outputs": [
    {
     "name": "stdout",
     "output_type": "stream",
     "text": [
      "[('a', 4), ('b', 3), ('c', 2)]\n"
     ]
    }
   ],
   "source": [
    "def count_rep(str):\n",
    "    dictionary = {};\n",
    "    list_of_tuples = [];\n",
    "    tuples = ();\n",
    "    for index,char in enumerate(str):\n",
    "        if index == 0:\n",
    "            dictionary[char] = 1;\n",
    "        elif index != 0 and str[index] == str[index-1]:\n",
    "            dictionary[char] = dictionary.get(char, 0) + 1;\n",
    "        elif index != 0 and str[index] != str[index-1]:\n",
    "            dictionary[char] = dictionary.get(char, 0) + 1;\n",
    "            list_of_tuples.append((str[index-1], dictionary[str[index-1]]));\n",
    "            dictionary[str[index-1]]=0;\n",
    "\n",
    "    return list_of_tuples;\n",
    "\n",
    "print(count_rep(\"aaaabbbcca\"));\n",
    "            "
   ]
  },
  {
   "cell_type": "markdown",
   "id": "9323afd6-0ce8-4008-83ff-9da89b7454c7",
   "metadata": {},
   "source": [
    "#### ChatGPT Suggested Clean Version"
   ]
  },
  {
   "cell_type": "code",
   "execution_count": 39,
   "id": "95aa0a99-9237-4425-a797-2a340ddabd87",
   "metadata": {},
   "outputs": [
    {
     "name": "stdout",
     "output_type": "stream",
     "text": [
      "[('a', 4), ('b', 3), ('c', 2), ('a', 1)]\n"
     ]
    }
   ],
   "source": [
    "def count_rep(s):\n",
    "    if not s:\n",
    "        return []\n",
    "\n",
    "    result = []\n",
    "    current_char = s[0]\n",
    "    count = 1\n",
    "\n",
    "    for i in range(1, len(s)):\n",
    "        if s[i] == current_char:\n",
    "            count += 1\n",
    "        else:\n",
    "            result.append((current_char, count))\n",
    "            current_char = s[i]\n",
    "            count = 1\n",
    "\n",
    "    # Append the last group\n",
    "    result.append((current_char, count))\n",
    "    return result\n",
    "\n",
    "print(count_rep(\"aaaabbbcca\"))  # [('a', 4), ('b', 3), ('c', 2), ('a', 1)]\n"
   ]
  },
  {
   "cell_type": "markdown",
   "id": "32c11d0d-1234-4ce0-96b7-b669b90285ac",
   "metadata": {},
   "source": [
    "💡 Key Improvements\n",
    "-   Simpler logic: just track the current character and count.\n",
    "\n",
    "-   No dictionary needed.\n",
    "\n",
    "-   Handles final character group properly.\n",
    "\n",
    "-   More readable."
   ]
  },
  {
   "cell_type": "markdown",
   "id": "15668d47-151e-4a77-bd3a-21c7866e5945",
   "metadata": {},
   "source": [
    "## 🧠 Problem 9: Valid Parentheses"
   ]
  },
  {
   "cell_type": "markdown",
   "id": "06d06fe0-4d20-40f6-9146-1ead6a72ab35",
   "metadata": {},
   "source": [
    "Description:\n",
    "Given a string containing just the characters '(', ')', '{', '}', '[', and ']', determine if the input string is valid.\n",
    "\n",
    "A string is valid if:\n",
    "\n",
    "1. Open brackets are closed by the same type of brackets.\n",
    "\n",
    "2. Open brackets are closed in the correct order."
   ]
  },
  {
   "cell_type": "markdown",
   "id": "88bc3cf1-a545-462a-a93b-397978151b62",
   "metadata": {},
   "source": [
    "#### 🔹Example Inputs and Outputs:"
   ]
  },
  {
   "cell_type": "raw",
   "id": "3e282ce0-05d6-4650-8be8-3197305da57e",
   "metadata": {},
   "source": [
    "valid_parentheses(\"()\")         # True  \n",
    "valid_parentheses(\"()[]{}\")     # True  \n",
    "valid_parentheses(\"(]\")         # False  \n",
    "valid_parentheses(\"([)]\")       # False  \n",
    "valid_parentheses(\"{[]}\")       # True"
   ]
  },
  {
   "cell_type": "markdown",
   "id": "7908602e-4814-4630-b9f0-a554c9c31ed6",
   "metadata": {},
   "source": [
    "#### ✅ Constraints:\n",
    "Input will only contain '(', ')', '{', '}', '[' and ']'.\n",
    "\n",
    "Input may be an empty string.\n",
    "\n"
   ]
  },
  {
   "cell_type": "markdown",
   "id": "f9909da9-16f9-4eb1-a926-4d354d1c131f",
   "metadata": {},
   "source": [
    "#### 🚀 Your Task:\n",
    "Write a function called valid_parentheses(s) that returns True if the string is valid, and False otherwise.\n",
    "\n",
    "Let me know once you’ve written it and want me to review!"
   ]
  },
  {
   "cell_type": "code",
   "execution_count": 40,
   "id": "7f67f35e-4ddf-4a67-9ce3-80ed2a03bc04",
   "metadata": {},
   "outputs": [
    {
     "name": "stdout",
     "output_type": "stream",
     "text": [
      "True\n",
      "True\n",
      "False\n",
      "False\n",
      "True\n"
     ]
    }
   ],
   "source": [
    "def valid_parentheses(s):\n",
    "    opening = \"([{\";\n",
    "    closing = \")]}\";\n",
    "    to_be_closed = closing[opening.index(s[0])];\n",
    "    previous_to_be_closed = s[0]\n",
    "    \n",
    "    if s[0] in closing:\n",
    "        return False;\n",
    "\n",
    "    for index in range(1,len(s)):\n",
    "        if s[index] in closing:\n",
    "            if s[index] != to_be_closed:\n",
    "                return False;\n",
    "            else:\n",
    "                to_be_closed = previous_to_be_closed;\n",
    "        if s[index] in opening:\n",
    "            previous_to_be_closed = to_be_closed;\n",
    "            to_be_closed = closing[opening.index(s[index])]; \n",
    "\n",
    "    return True;\n",
    "    \n",
    "print(valid_parentheses(\"()\"));         # True  \n",
    "print(valid_parentheses(\"()[]{}\"));     # True  \n",
    "print(valid_parentheses(\"(]\"));         # False  \n",
    "print(valid_parentheses(\"([)]\"));      # False  \n",
    "print(valid_parentheses(\"{[]}\"));       # True"
   ]
  },
  {
   "cell_type": "markdown",
   "id": "a423780e-d2e6-47bb-8d78-aaa3690a8b4c",
   "metadata": {},
   "source": [
    "#### 🔍 The Issue with Your Current Code\n",
    "Your code tries to track what needs to be closed linearly with to_be_closed, but parentheses (and brackets, braces) can be nested — and this nesting breaks your approach.\n",
    "\n",
    "For example, in {[()]}, you open {, then [, then (, and must close them in reverse order: ), ], }.\n",
    "\n",
    "So, we need a stack, which is perfect for this “last in, first out” scenario."
   ]
  },
  {
   "cell_type": "markdown",
   "id": "60122fbf-854c-4f2e-b61d-b6031feb4b1b",
   "metadata": {},
   "source": [
    "#### ✅ Clean and Reliable Approach (Using Stack)\n",
    "Here’s a version that works for all your cases:"
   ]
  },
  {
   "cell_type": "raw",
   "id": "5242b254-7184-46eb-9548-033a3f70a002",
   "metadata": {},
   "source": [
    "def valid_parentheses(s):\n",
    "    stack = []\n",
    "    mapping = {')': '(', ']': '[', '}': '{'}\n",
    "\n",
    "    for char in s:\n",
    "        if char in mapping.values():  # opening brackets\n",
    "            stack.append(char)\n",
    "        elif char in mapping:  # closing brackets\n",
    "            if not stack or stack.pop() != mapping[char]:\n",
    "                return False\n",
    "    return not stack  # True if stack is empty (all matched)"
   ]
  },
  {
   "cell_type": "markdown",
   "id": "cbdf3478-b106-445e-8be5-e1f8904e4c12",
   "metadata": {},
   "source": [
    "#### ✅ Why This Works:\n",
    "We push all opening brackets onto the stack.\n",
    "\n",
    "When we hit a closing bracket, we:\n",
    "\n",
    "Check that the stack isn’t empty.\n",
    "\n",
    "Pop the top and check if it matches the expected opening pair.\n",
    "\n",
    "At the end, the stack must be empty — otherwise we had unmatched open brackets."
   ]
  },
  {
   "cell_type": "markdown",
   "id": "0b358bb5-14fe-4ecf-afa6-3d640c8ee178",
   "metadata": {},
   "source": [
    "#### 🌟 Keep This in Mind\n",
    "Every time you face a bracket/nesting problem — think stack. It’s a super common pattern in interviews and real-world parsing problems."
   ]
  },
  {
   "cell_type": "markdown",
   "id": "3032ca12-e05e-4cd3-9b5c-14161ced7622",
   "metadata": {},
   "source": [
    "## 🧠 Problem 10: Longest Substring Without Repeating Characters\n",
    "Given a string, find the length of the longest substring without repeating characters."
   ]
  },
  {
   "cell_type": "code",
   "execution_count": 41,
   "id": "54af21d0-6627-4072-abe0-a58b7aec6fa0",
   "metadata": {},
   "outputs": [
    {
     "name": "stdout",
     "output_type": "stream",
     "text": [
      "3\n",
      "1\n",
      "3\n"
     ]
    }
   ],
   "source": [
    "def longest_substring(str):\n",
    "    current_substring = \"\";\n",
    "    substrings = [];\n",
    "    longest_sub = \"\";\n",
    "    for char in str:\n",
    "        if char in current_substring:\n",
    "            substrings.append(current_substring);\n",
    "            current_substring = \"\";\n",
    "            current_substring += (char);\n",
    "        else:\n",
    "            current_substring +=(char);\n",
    "\n",
    "    longest_sub = substrings[0];\n",
    "    \n",
    "    for index in range(1,len(substrings)):\n",
    "        if len(substrings[index]) > len(substrings[index-1]):\n",
    "            longest_sub = substrings[index];\n",
    "\n",
    "    return len(longest_sub);\n",
    "\n",
    "\n",
    "print(longest_substring(\"abcabcbb\"));\n",
    "print(longest_substring(\"bbbbb\"));\n",
    "print(longest_substring(\"pwwkew\"));"
   ]
  },
  {
   "cell_type": "markdown",
   "id": "df3ff2d3-2685-4c5b-947e-f48d1ffcf06c",
   "metadata": {},
   "source": [
    "#### Fixing Logic"
   ]
  },
  {
   "cell_type": "code",
   "execution_count": 42,
   "id": "3b0ce17f-d224-4cd8-a78c-66c790d15c50",
   "metadata": {},
   "outputs": [],
   "source": [
    "def longest_substring(str):\n",
    "    current_substring = \"\";\n",
    "    substrings = [];\n",
    "    longest_sub = \"\";\n",
    "    for char in str:\n",
    "        if char in current_substring:\n",
    "            substrings.append(current_substring);\n",
    "            current_substring = current_substring.replace(current_substring[0:current_substring.index(char)+1],\"\");\n",
    "            current_substring += (char);\n",
    "        else:\n",
    "            current_substring +=(char);\n",
    "\n",
    "    substrings.append(current_substring)\n",
    "\n",
    "    longest_sub = substrings[0];\n",
    "    \n",
    "    for s in substrings:\n",
    "        if len(s) > len(longest_sub):\n",
    "            longest_sub = s;\n",
    "\n",
    "    return len(longest_sub);"
   ]
  },
  {
   "cell_type": "code",
   "execution_count": 43,
   "id": "9f557ea9-69e2-407b-be5b-d79682abd8b7",
   "metadata": {},
   "outputs": [
    {
     "name": "stdout",
     "output_type": "stream",
     "text": [
      "3\n",
      "1\n",
      "3\n"
     ]
    }
   ],
   "source": [
    "print(longest_substring(\"abcabcbb\"));\n",
    "print(longest_substring(\"bbbbb\"));\n",
    "print(longest_substring(\"pwwkew\"));"
   ]
  },
  {
   "cell_type": "markdown",
   "id": "a68816c3-441f-40f4-bd99-5805d24d946d",
   "metadata": {},
   "source": [
    "#### ChatGPT Solution"
   ]
  },
  {
   "cell_type": "code",
   "execution_count": 44,
   "id": "2a4d7468-8d6c-44c5-9607-b29fc98f2d2b",
   "metadata": {},
   "outputs": [],
   "source": [
    "def longest_substring(s):\n",
    "    char_index = {}\n",
    "    start = 0\n",
    "    max_length = 0\n",
    "\n",
    "    for i in range(len(s)):\n",
    "        if s[i] in char_index and char_index[s[i]] >= start:\n",
    "            start = char_index[s[i]] + 1  # move start to the right of the last seen duplicate\n",
    "\n",
    "        char_index[s[i]] = i  # update last seen index of the character\n",
    "        max_length = max(max_length, i - start + 1)\n",
    "\n",
    "    return max_length\n"
   ]
  },
  {
   "cell_type": "markdown",
   "id": "7f0037d6-227f-43db-8328-6dfe918eb7c0",
   "metadata": {},
   "source": [
    "#### 🔍 Example:"
   ]
  },
  {
   "cell_type": "raw",
   "id": "cd210071-7344-47cc-886a-38e8409c6325",
   "metadata": {},
   "source": [
    "Let’s walk through abcabcbb:\n",
    "\n",
    "i\ts[i]\tstart\tchar_index\tmax_length\n",
    "0\ta\t0\t{a: 0}\t1\n",
    "1\tb\t0\t{a: 0, b: 1}\t2\n",
    "2\tc\t0\t{a: 0, b: 1, c: 2}\t3\n",
    "3\ta\t1\t{a: 3, b: 1, c: 2}\t3\n",
    "4\tb\t2\t{a: 3, b: 4, c: 2}\t3\n",
    "5\tc\t3\t{a: 3, b: 4, c: 5}\t3\n",
    "6\tb\t5\t{a: 3, b: 6, c: 5}\t3\n",
    "7\tb\t7\t{a: 3, b: 7, c: 5}\t3"
   ]
  },
  {
   "cell_type": "markdown",
   "id": "023c6bb1-70e7-4169-a63a-b77dbe696b9c",
   "metadata": {},
   "source": [
    "## 🧠 Problem 11: Find the Missing Number"
   ]
  },
  {
   "cell_type": "markdown",
   "id": "d64cf46d-7293-408b-a376-51d5532d2c03",
   "metadata": {},
   "source": [
    "You're given an array of integers nums containing n distinct numbers taken from the range 0 to n. That means exactly one number is missing from the range.\n",
    "\n",
    "Write a function find_missing_number(nums) that returns the missing number."
   ]
  },
  {
   "cell_type": "code",
   "execution_count": 45,
   "id": "0051662b-a75c-440d-84b7-76a3d0786eb5",
   "metadata": {},
   "outputs": [
    {
     "name": "stdout",
     "output_type": "stream",
     "text": [
      "2\n",
      "2\n",
      "8\n"
     ]
    }
   ],
   "source": [
    "def find_missing_number(nums):\n",
    "    nums.sort();\n",
    "    for index in range(len(nums)):\n",
    "        if nums[index] != index:\n",
    "            return index;\n",
    "    return len(nums);\n",
    "print(find_missing_number([3, 0, 1]))         # Output: 2  \n",
    "print(find_missing_number([0, 1]))            # Output: 2  \n",
    "print(find_missing_number([9,6,4,2,3,5,7,0,1])) # Output: 8  \n"
   ]
  },
  {
   "cell_type": "markdown",
   "id": "c8feea0d-7804-46ad-b0b5-fb5303163ba4",
   "metadata": {},
   "source": [
    "## 🧠 Problem 12: Move Zeroes\n",
    "Write a function move_zeroes(nums) that takes a list of integers and moves all the 0s to the end while maintaining the relative order of the non-zero elements.\n",
    "\n",
    "You must do it in-place (i.e., modify the original list), and try to minimize the total number of operations."
   ]
  },
  {
   "cell_type": "markdown",
   "id": "9941a008-bdd7-493e-9fe6-5e3bcc522f10",
   "metadata": {},
   "source": [
    "#### 📥 Input:"
   ]
  },
  {
   "cell_type": "raw",
   "id": "ba2fc4ab-f88b-4b0b-bcae-3ae2c081cff5",
   "metadata": {},
   "source": [
    "[0, 1, 0, 3, 12]"
   ]
  },
  {
   "cell_type": "markdown",
   "id": "c5dde83a-32ac-4330-8589-d5f70735c08f",
   "metadata": {},
   "source": [
    "#### 📤 Output:"
   ]
  },
  {
   "cell_type": "raw",
   "id": "a8fe74c3-fc25-47f1-b3e0-d3656d223923",
   "metadata": {},
   "source": [
    "[1, 3, 12, 0, 0]"
   ]
  },
  {
   "cell_type": "markdown",
   "id": "99ac56ee-c2f1-468e-ac44-090ea3b69efd",
   "metadata": {},
   "source": [
    "#### ✅ Examples:"
   ]
  },
  {
   "cell_type": "raw",
   "id": "b80e6c83-7f3c-4a6d-8e39-81be5a26b2f8",
   "metadata": {},
   "source": [
    "move_zeroes([0, 1, 0, 3, 12])       # [1, 3, 12, 0, 0]\n",
    "move_zeroes([0, 0, 1])              # [1, 0, 0]\n",
    "move_zeroes([1, 2, 3])              # [1, 2, 3]\n",
    "move_zeroes([0, 0, 0])              # [0, 0, 0]"
   ]
  },
  {
   "cell_type": "code",
   "execution_count": 46,
   "id": "9e99c734-7a15-4c35-a232-f190d3a7cac6",
   "metadata": {},
   "outputs": [],
   "source": [
    "def move_zeroes(int_list):\n",
    "    for num in int_list:\n",
    "        if num == 0:\n",
    "            int_list.append(int_list.pop(int_list.index(num)));\n",
    "    \n",
    "    return int_list;"
   ]
  },
  {
   "cell_type": "code",
   "execution_count": 47,
   "id": "80a16ae6-b115-4ef8-819f-d62d85072fcb",
   "metadata": {},
   "outputs": [
    {
     "name": "stdout",
     "output_type": "stream",
     "text": [
      "[1, 3, 12, 0, 0]\n"
     ]
    }
   ],
   "source": [
    "print(move_zeroes([0, 1, 0, 3, 12])) # [1, 3, 12, 0, 0]"
   ]
  },
  {
   "cell_type": "code",
   "execution_count": 48,
   "id": "706a5b35-5de7-4fed-a637-f5cfd70a4b04",
   "metadata": {},
   "outputs": [
    {
     "name": "stdout",
     "output_type": "stream",
     "text": [
      "[1, 0, 0]\n"
     ]
    }
   ],
   "source": [
    "print(move_zeroes([0, 0, 1]))              # [1, 0, 0]"
   ]
  },
  {
   "cell_type": "code",
   "execution_count": 49,
   "id": "737b19ff-a851-4b9a-a529-b414294936ee",
   "metadata": {},
   "outputs": [
    {
     "name": "stdout",
     "output_type": "stream",
     "text": [
      "[1, 2, 3]\n"
     ]
    }
   ],
   "source": [
    "print(move_zeroes([1, 2, 3]))              # [1, 2, 3]"
   ]
  },
  {
   "cell_type": "code",
   "execution_count": 50,
   "id": "81cd0cec-8a4a-4aa7-be70-0abcb543058c",
   "metadata": {},
   "outputs": [
    {
     "name": "stdout",
     "output_type": "stream",
     "text": [
      "[0, 0, 0]\n"
     ]
    }
   ],
   "source": [
    "print(move_zeroes([0, 0, 0]))              # [0, 0, 0]"
   ]
  },
  {
   "cell_type": "code",
   "execution_count": 51,
   "id": "b0c04a89-d746-48db-a3e4-40b77abd909b",
   "metadata": {},
   "outputs": [],
   "source": [
    "def move_zeroes(int_list):\n",
    "    count_zeroes = int_list.count(0);\n",
    "    zeroes_deleted = 0;\n",
    "    index = 0;\n",
    "    while zeroes_deleted < count_zeroes:\n",
    "        if int_list[index] == 0:\n",
    "            int_list.append(int_list.pop(index));\n",
    "            zeroes_deleted += 1;\n",
    "        else:\n",
    "            index += 1;\n",
    "    \n",
    "    return int_list;\n",
    "        \n",
    "\n",
    "move_zeroes([0, 1, 0, 3, 12]);       # [1, 3, 12, 0, 0]\n",
    "move_zeroes([0, 0, 1]);              # [1, 0, 0]"
   ]
  },
  {
   "cell_type": "code",
   "execution_count": 52,
   "id": "a6622c91-3beb-41d2-9eea-c436c487f143",
   "metadata": {},
   "outputs": [
    {
     "name": "stdout",
     "output_type": "stream",
     "text": [
      "[1, 3, 12, 0, 0]\n"
     ]
    }
   ],
   "source": [
    "print(move_zeroes([0, 1, 0, 3, 12])) # [1, 3, 12, 0, 0]"
   ]
  },
  {
   "cell_type": "code",
   "execution_count": 53,
   "id": "d59f71f1-5c55-4bd1-8406-18d3d3d29d8e",
   "metadata": {},
   "outputs": [
    {
     "name": "stdout",
     "output_type": "stream",
     "text": [
      "[1, 0, 0]\n"
     ]
    }
   ],
   "source": [
    "print(move_zeroes([0, 0, 1]))              # [1, 0, 0]"
   ]
  },
  {
   "cell_type": "markdown",
   "id": "f3883011-37f8-4255-aa08-064a29b0ac43",
   "metadata": {},
   "source": [
    "#### ChatGPT: ✅ Here’s one clean fix using a two-pointer approach:"
   ]
  },
  {
   "cell_type": "code",
   "execution_count": 54,
   "id": "824e7844-2463-4466-86dd-e8038241d631",
   "metadata": {},
   "outputs": [],
   "source": [
    "def move_zeroes(nums):\n",
    "    insert_pos = 0\n",
    "\n",
    "    for num in nums:\n",
    "        if num != 0:\n",
    "            nums[insert_pos] = num\n",
    "            insert_pos += 1\n",
    "\n",
    "    while insert_pos < len(nums):\n",
    "        nums[insert_pos] = 0\n",
    "        insert_pos += 1\n",
    "\n",
    "    return nums\n"
   ]
  },
  {
   "cell_type": "markdown",
   "id": "4c62a4c0-1b99-43e0-b49f-8794963560c0",
   "metadata": {},
   "source": [
    "## 🧠 Problem 13: Matrix Row Normalization with NumPy\n",
    "\n",
    "## Problem Statement:\n",
    "Write a function that takes a 2D NumPy array (matrix) and normalizes each row so that it has a mean of 0 and a standard deviation of 1."
   ]
  },
  {
   "cell_type": "markdown",
   "id": "17e9c6ea-ba8f-45f1-9d78-e14511fbbf0f",
   "metadata": {},
   "source": [
    "#### 📥 Example Input:"
   ]
  },
  {
   "cell_type": "raw",
   "id": "8b252cd3-95b6-46d5-b2b7-ac425311e374",
   "metadata": {},
   "source": [
    "import numpy as np\n",
    "matrix = np.array([\n",
    "    [1, 2, 3],\n",
    "    [4, 5, 6],\n",
    "    [7, 8, 9]\n",
    "])"
   ]
  },
  {
   "cell_type": "markdown",
   "id": "0255d235-6e8f-4bf5-97be-ab06d7eda52b",
   "metadata": {},
   "source": [
    "#### 📤 Expected Output:"
   ]
  },
  {
   "cell_type": "raw",
   "id": "dff6d979-25c1-4b15-810f-de615061b9c0",
   "metadata": {},
   "source": [
    "array([\n",
    "    [-1.22474487,  0.        ,  1.22474487],\n",
    "    [-1.22474487,  0.        ,  1.22474487],\n",
    "    [-1.22474487,  0.        ,  1.22474487]\n",
    "])"
   ]
  },
  {
   "cell_type": "code",
   "execution_count": 93,
   "id": "e7907e7b-17e6-4f72-88d5-2df5794a3efd",
   "metadata": {},
   "outputs": [],
   "source": [
    "import numpy as np\n",
    "\n",
    "matrix = np.array([\n",
    "    [1, 2, 3],\n",
    "    [4, 5, 6],\n",
    "    [7, 8, 9]\n",
    "])\n",
    "\n",
    "def normalize_rows(matrix):\n",
    "    array = np.empty((len(matrix), len(matrix[0])))\n",
    "\n",
    "    for i, row in enumerate(matrix):\n",
    "        new_row = (row-row.mean())/row.std()\n",
    "        array[i] = new_row\n",
    "        \n",
    "    return array"
   ]
  },
  {
   "cell_type": "code",
   "execution_count": 94,
   "id": "b168bb3a-4b79-47ba-8326-7d5c4419b983",
   "metadata": {},
   "outputs": [
    {
     "name": "stdout",
     "output_type": "stream",
     "text": [
      "[[-1.22474487  0.          1.22474487]\n",
      " [-1.22474487  0.          1.22474487]\n",
      " [-1.22474487  0.          1.22474487]]\n"
     ]
    }
   ],
   "source": [
    "print(normalize_rows(matrix))"
   ]
  },
  {
   "cell_type": "code",
   "execution_count": 95,
   "id": "def3fb18-5b82-46e6-a915-1c048ddd1d81",
   "metadata": {},
   "outputs": [
    {
     "data": {
      "text/plain": [
       "0.9999999999999999"
      ]
     },
     "execution_count": 95,
     "metadata": {},
     "output_type": "execute_result"
    }
   ],
   "source": [
    "normalize_rows(matrix)[0].std()"
   ]
  }
 ],
 "metadata": {
  "kernelspec": {
   "display_name": "Python (tf)",
   "language": "python",
   "name": "tf_env"
  },
  "language_info": {
   "codemirror_mode": {
    "name": "ipython",
    "version": 3
   },
   "file_extension": ".py",
   "mimetype": "text/x-python",
   "name": "python",
   "nbconvert_exporter": "python",
   "pygments_lexer": "ipython3",
   "version": "3.10.13"
  }
 },
 "nbformat": 4,
 "nbformat_minor": 5
}
